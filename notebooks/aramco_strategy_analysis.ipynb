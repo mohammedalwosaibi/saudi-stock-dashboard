{
 "cells": [
  {
   "cell_type": "markdown",
   "id": "f1aea64f-01c6-4821-8b37-b328509a5738",
   "metadata": {},
   "source": [
    "# Saudi Aramco Strategy Analysis: To Invest or To Trade?"
   ]
  },
  {
   "cell_type": "markdown",
   "id": "e1479b3c-70fb-42cc-a384-106f8529ca2d",
   "metadata": {},
   "source": [
    "In this notebook, I will explore how a **long-term buy-and-hold strategy** compares to a **short-term Simple Moving Average (SMA) crossover strategy** for **Saudi Aramco’s stock**.\n",
    "\n",
    "Using historical stock data from the past five years, I will:\n",
    "\n",
    "- **Calculate the dividend-adjusted annualized return** for an investor who bought and held the stock  \n",
    "- **Backtest and apply walk-forward cross-validation** to determine the best short-term and long-term SMA parameters  \n",
    "- **Compare the two strategies** and analyze **why one outperforms the other** for this specific ticker  \n",
    "\n",
    "The goal is to help **investors and analysts** make more **informed decisions** and have **full confidence in their strategy**, regardless of the market's state.\n"
   ]
  },
  {
   "cell_type": "markdown",
   "id": "53b0bc17-5ea5-457c-b517-f51d7ae6025f",
   "metadata": {},
   "source": [
    "## Importing Essential Modules & Initializing Aramco's Stock DataFrame"
   ]
  },
  {
   "cell_type": "code",
   "execution_count": 28,
   "id": "7bca0e4f-feb6-4b6c-8046-9f4df03fb182",
   "metadata": {},
   "outputs": [],
   "source": [
    "import numpy as np\n",
    "import pandas as pd\n",
    "import matplotlib.pyplot as plt\n",
    "import yfinance as yf"
   ]
  },
  {
   "cell_type": "code",
   "execution_count": 105,
   "id": "b076ceeb-dd8c-4b06-bd2d-c1b308a4f8cb",
   "metadata": {},
   "outputs": [
    {
     "name": "stderr",
     "output_type": "stream",
     "text": [
      "[*********************100%***********************]  1 of 1 completed\n"
     ]
    },
    {
     "data": {
      "text/html": [
       "<div>\n",
       "<style scoped>\n",
       "    .dataframe tbody tr th:only-of-type {\n",
       "        vertical-align: middle;\n",
       "    }\n",
       "\n",
       "    .dataframe tbody tr th {\n",
       "        vertical-align: top;\n",
       "    }\n",
       "\n",
       "    .dataframe thead th {\n",
       "        text-align: right;\n",
       "    }\n",
       "</style>\n",
       "<table border=\"1\" class=\"dataframe\">\n",
       "  <thead>\n",
       "    <tr style=\"text-align: right;\">\n",
       "      <th></th>\n",
       "      <th>Date</th>\n",
       "      <th>Adj Close</th>\n",
       "      <th>Close</th>\n",
       "      <th>High</th>\n",
       "      <th>Low</th>\n",
       "      <th>Open</th>\n",
       "      <th>Volume</th>\n",
       "    </tr>\n",
       "  </thead>\n",
       "  <tbody>\n",
       "    <tr>\n",
       "      <th>0</th>\n",
       "      <td>2019-12-11</td>\n",
       "      <td>24.439983</td>\n",
       "      <td>29.090908</td>\n",
       "      <td>29.090908</td>\n",
       "      <td>29.090908</td>\n",
       "      <td>29.090908</td>\n",
       "      <td>38289394</td>\n",
       "    </tr>\n",
       "    <tr>\n",
       "      <th>1</th>\n",
       "      <td>2019-12-12</td>\n",
       "      <td>25.550892</td>\n",
       "      <td>30.413223</td>\n",
       "      <td>31.983471</td>\n",
       "      <td>29.752066</td>\n",
       "      <td>31.983471</td>\n",
       "      <td>505692621</td>\n",
       "    </tr>\n",
       "    <tr>\n",
       "      <th>2</th>\n",
       "      <td>2019-12-15</td>\n",
       "      <td>25.967487</td>\n",
       "      <td>30.909090</td>\n",
       "      <td>30.991735</td>\n",
       "      <td>30.413223</td>\n",
       "      <td>30.661158</td>\n",
       "      <td>98349281</td>\n",
       "    </tr>\n",
       "    <tr>\n",
       "      <th>3</th>\n",
       "      <td>2019-12-16</td>\n",
       "      <td>26.384069</td>\n",
       "      <td>31.404959</td>\n",
       "      <td>31.487602</td>\n",
       "      <td>30.991735</td>\n",
       "      <td>30.991735</td>\n",
       "      <td>105973907</td>\n",
       "    </tr>\n",
       "    <tr>\n",
       "      <th>4</th>\n",
       "      <td>2019-12-17</td>\n",
       "      <td>26.210489</td>\n",
       "      <td>31.198347</td>\n",
       "      <td>31.528925</td>\n",
       "      <td>30.991735</td>\n",
       "      <td>31.446280</td>\n",
       "      <td>142672245</td>\n",
       "    </tr>\n",
       "    <tr>\n",
       "      <th>...</th>\n",
       "      <td>...</td>\n",
       "      <td>...</td>\n",
       "      <td>...</td>\n",
       "      <td>...</td>\n",
       "      <td>...</td>\n",
       "      <td>...</td>\n",
       "      <td>...</td>\n",
       "    </tr>\n",
       "    <tr>\n",
       "      <th>1386</th>\n",
       "      <td>2025-07-06</td>\n",
       "      <td>24.870001</td>\n",
       "      <td>24.870001</td>\n",
       "      <td>24.889999</td>\n",
       "      <td>24.549999</td>\n",
       "      <td>24.780001</td>\n",
       "      <td>9678871</td>\n",
       "    </tr>\n",
       "    <tr>\n",
       "      <th>1387</th>\n",
       "      <td>2025-07-07</td>\n",
       "      <td>25.080000</td>\n",
       "      <td>25.080000</td>\n",
       "      <td>25.139999</td>\n",
       "      <td>24.780001</td>\n",
       "      <td>24.870001</td>\n",
       "      <td>11038097</td>\n",
       "    </tr>\n",
       "    <tr>\n",
       "      <th>1388</th>\n",
       "      <td>2025-07-08</td>\n",
       "      <td>25.100000</td>\n",
       "      <td>25.100000</td>\n",
       "      <td>25.120001</td>\n",
       "      <td>24.980000</td>\n",
       "      <td>25.059999</td>\n",
       "      <td>11042534</td>\n",
       "    </tr>\n",
       "    <tr>\n",
       "      <th>1389</th>\n",
       "      <td>2025-07-09</td>\n",
       "      <td>24.879999</td>\n",
       "      <td>24.879999</td>\n",
       "      <td>25.120001</td>\n",
       "      <td>24.820000</td>\n",
       "      <td>25.080000</td>\n",
       "      <td>7350422</td>\n",
       "    </tr>\n",
       "    <tr>\n",
       "      <th>1390</th>\n",
       "      <td>2025-07-10</td>\n",
       "      <td>25.040001</td>\n",
       "      <td>25.040001</td>\n",
       "      <td>25.059999</td>\n",
       "      <td>24.830000</td>\n",
       "      <td>24.879999</td>\n",
       "      <td>9659619</td>\n",
       "    </tr>\n",
       "  </tbody>\n",
       "</table>\n",
       "<p>1391 rows × 7 columns</p>\n",
       "</div>"
      ],
      "text/plain": [
       "           Date  Adj Close      Close       High        Low       Open  \\\n",
       "0    2019-12-11  24.439983  29.090908  29.090908  29.090908  29.090908   \n",
       "1    2019-12-12  25.550892  30.413223  31.983471  29.752066  31.983471   \n",
       "2    2019-12-15  25.967487  30.909090  30.991735  30.413223  30.661158   \n",
       "3    2019-12-16  26.384069  31.404959  31.487602  30.991735  30.991735   \n",
       "4    2019-12-17  26.210489  31.198347  31.528925  30.991735  31.446280   \n",
       "...         ...        ...        ...        ...        ...        ...   \n",
       "1386 2025-07-06  24.870001  24.870001  24.889999  24.549999  24.780001   \n",
       "1387 2025-07-07  25.080000  25.080000  25.139999  24.780001  24.870001   \n",
       "1388 2025-07-08  25.100000  25.100000  25.120001  24.980000  25.059999   \n",
       "1389 2025-07-09  24.879999  24.879999  25.120001  24.820000  25.080000   \n",
       "1390 2025-07-10  25.040001  25.040001  25.059999  24.830000  24.879999   \n",
       "\n",
       "         Volume  \n",
       "0      38289394  \n",
       "1     505692621  \n",
       "2      98349281  \n",
       "3     105973907  \n",
       "4     142672245  \n",
       "...         ...  \n",
       "1386    9678871  \n",
       "1387   11038097  \n",
       "1388   11042534  \n",
       "1389    7350422  \n",
       "1390    9659619  \n",
       "\n",
       "[1391 rows x 7 columns]"
      ]
     },
     "execution_count": 105,
     "metadata": {},
     "output_type": "execute_result"
    }
   ],
   "source": [
    "aramco_stock = yf.download(\"2222.SR\", \"2019-12-01\", \"2025-07-13\", multi_level_index=False, auto_adjust=False)\n",
    "aramco_stock.reset_index(inplace=True)\n",
    "aramco_stock"
   ]
  },
  {
   "cell_type": "markdown",
   "id": "6c22ac57-4802-4ca3-9f5b-cc75558428a0",
   "metadata": {},
   "source": [
    "## Buy-And-Hold Performance"
   ]
  },
  {
   "cell_type": "markdown",
   "id": "16cdceeb-99f4-4856-8e3f-0fa3d6c11cf9",
   "metadata": {},
   "source": [
    "**Firstly**, I will calculate the **average annualized return** for an investor who **bought Saudi Aramco stock five years ago and held it without making any trades**. For simplicity, I will assume the **dividend yield remained constant at its 5.39% average**, and I will calculate returns over the period from **July 1, 2020 to July 1, 2025**. I will also assume that the **yields from capital gains and dividends are compounded annually**."
   ]
  },
  {
   "cell_type": "code",
   "execution_count": 121,
   "id": "1bda99ae-cfe1-44bd-a458-00ba99c48211",
   "metadata": {},
   "outputs": [
    {
     "name": "stdout",
     "output_type": "stream",
     "text": [
      "On 2020-07-01, 100 SAR buys 3.73 shares of Saudi Aramco stock.\n",
      "On 2025-07-01, these shares are worth 90.68 SAR, showing a compound annual growth rate of -1.94%.\n",
      "With dividends reinvested at a yield of 5.39%, the finalized annual return is 3.35%.\n"
     ]
    }
   ],
   "source": [
    "STARTING_CASH = 100\n",
    "DIVIDEND_MULTIPLIER = 1.0539\n",
    "START_DATE = \"2020-07-01\"\n",
    "END_DATE = \"2025-07-01\"\n",
    "\n",
    "shares_owned = STARTING_CASH / aramco_stock[\"Open\"][aramco_stock[\"Date\"] == START_DATE].iloc[0] # initial number of shares owned\n",
    "final_shares_price = shares_owned * aramco_stock[\"Open\"][aramco_stock[\"Date\"] == END_DATE].iloc[0]\n",
    "compound_annual_growth_multiplier = (final_shares_price / STARTING_CASH) ** (1/5)\n",
    "compound_annual_growth_multiplier_with_dividends = compound_annual_growth_multiplier * DIVIDEND_MULTIPLIER\n",
    "\n",
    "print(f\"On {START_DATE}, {STARTING_CASH} SAR buys {shares_owned:.2f} shares of Saudi Aramco stock.\")\n",
    "print(f\"On {END_DATE}, these shares are worth {final_shares_price:.2f} SAR, showing a compound annual growth rate of {(compound_annual_growth_multiplier - 1) * 100:.2f}%.\")\n",
    "print(f\"With dividends reinvested at a yield of {DIVIDEND_YIELD}%, the finalized annual return is {(compound_annual_growth_multiplier_with_dividends - 1) * 100:.2f}%.\")"
   ]
  },
  {
   "cell_type": "code",
   "execution_count": null,
   "id": "66279c80-4a74-496a-9a18-b0f9c593f2f6",
   "metadata": {},
   "outputs": [],
   "source": []
  }
 ],
 "metadata": {
  "kernelspec": {
   "display_name": "Python [conda env:base] *",
   "language": "python",
   "name": "conda-base-py"
  },
  "language_info": {
   "codemirror_mode": {
    "name": "ipython",
    "version": 3
   },
   "file_extension": ".py",
   "mimetype": "text/x-python",
   "name": "python",
   "nbconvert_exporter": "python",
   "pygments_lexer": "ipython3",
   "version": "3.12.7"
  }
 },
 "nbformat": 4,
 "nbformat_minor": 5
}
