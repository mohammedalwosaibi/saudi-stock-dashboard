{
 "cells": [
  {
   "cell_type": "markdown",
   "id": "f1aea64f-01c6-4821-8b37-b328509a5738",
   "metadata": {},
   "source": [
    "# Saudi Aramco Strategy Analysis: To Invest or To Trade?"
   ]
  },
  {
   "cell_type": "markdown",
   "id": "e1479b3c-70fb-42cc-a384-106f8529ca2d",
   "metadata": {},
   "source": [
    "In this notebook, I will explore how a **long-term buy-and-hold strategy** compares to a **short-term Simple Moving Average (SMA) crossover strategy** for **Saudi Aramco’s stock**.\n",
    "\n",
    "Using historical stock data from the past five years, I will:\n",
    "\n",
    "- **Calculate the dividend-adjusted annualized return** for an investor who bought and held the stock\n",
    "- **Backtest and apply walk-forward cross-validation** to determine the best short-term and long-term SMA parameters\n",
    "- **Compare the two strategies** and analyze **why one outperforms the other** for this specific ticker\n",
    "\n",
    "The goal is to help **investors and analysts** make more **informed decisions** and have **full confidence in their strategy**, regardless of the market's state."
   ]
  },
  {
   "cell_type": "markdown",
   "id": "53b0bc17-5ea5-457c-b517-f51d7ae6025f",
   "metadata": {},
   "source": [
    "## Importing Essential Modules & Initializing Aramco's Stock DataFrame"
   ]
  },
  {
   "cell_type": "code",
   "execution_count": 7,
   "id": "7bca0e4f-feb6-4b6c-8046-9f4df03fb182",
   "metadata": {},
   "outputs": [],
   "source": [
    "import numpy as np\n",
    "import pandas as pd\n",
    "import matplotlib.pyplot as plt\n",
    "import yfinance as yf"
   ]
  },
  {
   "cell_type": "code",
   "execution_count": 8,
   "id": "b076ceeb-dd8c-4b06-bd2d-c1b308a4f8cb",
   "metadata": {},
   "outputs": [
    {
     "name": "stderr",
     "output_type": "stream",
     "text": [
      "[*********************100%***********************]  1 of 1 completed\n"
     ]
    },
    {
     "data": {
      "text/html": [
       "<div>\n",
       "<style scoped>\n",
       "    .dataframe tbody tr th:only-of-type {\n",
       "        vertical-align: middle;\n",
       "    }\n",
       "\n",
       "    .dataframe tbody tr th {\n",
       "        vertical-align: top;\n",
       "    }\n",
       "\n",
       "    .dataframe thead th {\n",
       "        text-align: right;\n",
       "    }\n",
       "</style>\n",
       "<table border=\"1\" class=\"dataframe\">\n",
       "  <thead>\n",
       "    <tr style=\"text-align: right;\">\n",
       "      <th></th>\n",
       "      <th>Date</th>\n",
       "      <th>Adj Close</th>\n",
       "      <th>Close</th>\n",
       "      <th>High</th>\n",
       "      <th>Low</th>\n",
       "      <th>Open</th>\n",
       "      <th>Volume</th>\n",
       "    </tr>\n",
       "  </thead>\n",
       "  <tbody>\n",
       "    <tr>\n",
       "      <th>0</th>\n",
       "      <td>2019-12-11</td>\n",
       "      <td>24.458281</td>\n",
       "      <td>29.090908</td>\n",
       "      <td>29.090908</td>\n",
       "      <td>29.090908</td>\n",
       "      <td>29.090908</td>\n",
       "      <td>38289394</td>\n",
       "    </tr>\n",
       "    <tr>\n",
       "      <th>1</th>\n",
       "      <td>2019-12-12</td>\n",
       "      <td>25.570021</td>\n",
       "      <td>30.413223</td>\n",
       "      <td>31.983471</td>\n",
       "      <td>29.752066</td>\n",
       "      <td>31.983471</td>\n",
       "      <td>505692621</td>\n",
       "    </tr>\n",
       "    <tr>\n",
       "      <th>2</th>\n",
       "      <td>2019-12-15</td>\n",
       "      <td>25.986927</td>\n",
       "      <td>30.909090</td>\n",
       "      <td>30.991735</td>\n",
       "      <td>30.413223</td>\n",
       "      <td>30.661158</td>\n",
       "      <td>98349281</td>\n",
       "    </tr>\n",
       "    <tr>\n",
       "      <th>3</th>\n",
       "      <td>2019-12-16</td>\n",
       "      <td>26.403830</td>\n",
       "      <td>31.404959</td>\n",
       "      <td>31.487602</td>\n",
       "      <td>30.991735</td>\n",
       "      <td>30.991735</td>\n",
       "      <td>105973907</td>\n",
       "    </tr>\n",
       "    <tr>\n",
       "      <th>4</th>\n",
       "      <td>2019-12-17</td>\n",
       "      <td>26.230120</td>\n",
       "      <td>31.198347</td>\n",
       "      <td>31.528925</td>\n",
       "      <td>30.991735</td>\n",
       "      <td>31.446280</td>\n",
       "      <td>142672245</td>\n",
       "    </tr>\n",
       "    <tr>\n",
       "      <th>...</th>\n",
       "      <td>...</td>\n",
       "      <td>...</td>\n",
       "      <td>...</td>\n",
       "      <td>...</td>\n",
       "      <td>...</td>\n",
       "      <td>...</td>\n",
       "      <td>...</td>\n",
       "    </tr>\n",
       "    <tr>\n",
       "      <th>1386</th>\n",
       "      <td>2025-07-06</td>\n",
       "      <td>24.870001</td>\n",
       "      <td>24.870001</td>\n",
       "      <td>24.889999</td>\n",
       "      <td>24.549999</td>\n",
       "      <td>24.780001</td>\n",
       "      <td>9678871</td>\n",
       "    </tr>\n",
       "    <tr>\n",
       "      <th>1387</th>\n",
       "      <td>2025-07-07</td>\n",
       "      <td>25.080000</td>\n",
       "      <td>25.080000</td>\n",
       "      <td>25.139999</td>\n",
       "      <td>24.780001</td>\n",
       "      <td>24.870001</td>\n",
       "      <td>11038097</td>\n",
       "    </tr>\n",
       "    <tr>\n",
       "      <th>1388</th>\n",
       "      <td>2025-07-08</td>\n",
       "      <td>25.100000</td>\n",
       "      <td>25.100000</td>\n",
       "      <td>25.120001</td>\n",
       "      <td>24.980000</td>\n",
       "      <td>25.059999</td>\n",
       "      <td>11042534</td>\n",
       "    </tr>\n",
       "    <tr>\n",
       "      <th>1389</th>\n",
       "      <td>2025-07-09</td>\n",
       "      <td>24.879999</td>\n",
       "      <td>24.879999</td>\n",
       "      <td>25.120001</td>\n",
       "      <td>24.820000</td>\n",
       "      <td>25.080000</td>\n",
       "      <td>7350422</td>\n",
       "    </tr>\n",
       "    <tr>\n",
       "      <th>1390</th>\n",
       "      <td>2025-07-10</td>\n",
       "      <td>25.040001</td>\n",
       "      <td>25.040001</td>\n",
       "      <td>25.059999</td>\n",
       "      <td>24.830000</td>\n",
       "      <td>24.879999</td>\n",
       "      <td>9659619</td>\n",
       "    </tr>\n",
       "  </tbody>\n",
       "</table>\n",
       "<p>1391 rows × 7 columns</p>\n",
       "</div>"
      ],
      "text/plain": [
       "           Date  Adj Close      Close       High        Low       Open  \\\n",
       "0    2019-12-11  24.458281  29.090908  29.090908  29.090908  29.090908   \n",
       "1    2019-12-12  25.570021  30.413223  31.983471  29.752066  31.983471   \n",
       "2    2019-12-15  25.986927  30.909090  30.991735  30.413223  30.661158   \n",
       "3    2019-12-16  26.403830  31.404959  31.487602  30.991735  30.991735   \n",
       "4    2019-12-17  26.230120  31.198347  31.528925  30.991735  31.446280   \n",
       "...         ...        ...        ...        ...        ...        ...   \n",
       "1386 2025-07-06  24.870001  24.870001  24.889999  24.549999  24.780001   \n",
       "1387 2025-07-07  25.080000  25.080000  25.139999  24.780001  24.870001   \n",
       "1388 2025-07-08  25.100000  25.100000  25.120001  24.980000  25.059999   \n",
       "1389 2025-07-09  24.879999  24.879999  25.120001  24.820000  25.080000   \n",
       "1390 2025-07-10  25.040001  25.040001  25.059999  24.830000  24.879999   \n",
       "\n",
       "         Volume  \n",
       "0      38289394  \n",
       "1     505692621  \n",
       "2      98349281  \n",
       "3     105973907  \n",
       "4     142672245  \n",
       "...         ...  \n",
       "1386    9678871  \n",
       "1387   11038097  \n",
       "1388   11042534  \n",
       "1389    7350422  \n",
       "1390    9659619  \n",
       "\n",
       "[1391 rows x 7 columns]"
      ]
     },
     "execution_count": 8,
     "metadata": {},
     "output_type": "execute_result"
    }
   ],
   "source": [
    "aramco_stock = yf.download(\"2222.SR\", \"2019-12-01\", \"2025-07-13\", multi_level_index=False, auto_adjust=False)\n",
    "aramco_stock.reset_index(inplace=True)\n",
    "aramco_stock"
   ]
  },
  {
   "cell_type": "markdown",
   "id": "6c22ac57-4802-4ca3-9f5b-cc75558428a0",
   "metadata": {},
   "source": [
    "## Buy-And-Hold Performance"
   ]
  },
  {
   "cell_type": "markdown",
   "id": "16cdceeb-99f4-4856-8e3f-0fa3d6c11cf9",
   "metadata": {},
   "source": [
    "**Firstly**, let's calculate the **average annualized return** for an investor who **bought Saudi Aramco stock five years ago and held it without making any trades**. For simplicity, let's assume the **dividend yield remained constant at its 5.39% average** and calculate the returns over the period from **July 1, 2020 to July 1, 2025**. Let's also assume that the **yields from capital gains and dividends are compounded annually**."
   ]
  },
  {
   "cell_type": "code",
   "execution_count": null,
   "id": "1bda99ae-cfe1-44bd-a458-00ba99c48211",
   "metadata": {},
   "outputs": [
    {
     "name": "stdout",
     "output_type": "stream",
     "text": [
      "On 2020-07-01, 100 SAR buys 3.73 shares of Saudi Aramco stock.\n",
      "On 2025-07-01, these shares are worth 90.68 SAR, showing a compound annual growth rate of -1.94%.\n",
      "With dividends reinvested at a yield of 5.39%, the finalized annual return is 3.35%.\n"
     ]
    }
   ],
   "source": [
    "STARTING_CASH = 100\n",
    "DIVIDEND_MULTIPLIER = 1.0539\n",
    "START_DATE = \"2020-07-01\"\n",
    "END_DATE = \"2025-07-01\"\n",
    "\n",
    "# calculate annualized growth with dividends\n",
    "shares_owned = STARTING_CASH / aramco_stock[\"Open\"][aramco_stock[\"Date\"] == START_DATE].iloc[0]\n",
    "final_shares_price = shares_owned * aramco_stock[\"Open\"][aramco_stock[\"Date\"] == END_DATE].iloc[0]\n",
    "compound_annual_growth_multiplier = (final_shares_price / STARTING_CASH) ** (1/5)\n",
    "compound_annual_growth_multiplier_with_dividends = compound_annual_growth_multiplier * DIVIDEND_MULTIPLIER\n",
    "\n",
    "print(f\"On {START_DATE}, {STARTING_CASH} SAR buys {shares_owned:.2f} shares of Saudi Aramco stock.\")\n",
    "print(f\"On {END_DATE}, these shares are worth {final_shares_price:.2f} SAR, showing a compound annual growth rate of {(compound_annual_growth_multiplier - 1) * 100:.2f}%.\")\n",
    "print(f\"With dividends reinvested at a yield of {(DIVIDEND_MULTIPLIER - 1) * 100:.2f}%, the finalized annual return is {(compound_annual_growth_multiplier_with_dividends - 1) * 100:.2f}%.\")"
   ]
  },
  {
   "cell_type": "markdown",
   "id": "39abd3a3-26f9-40fc-a0bb-8ddfe3a9ec75",
   "metadata": {},
   "source": [
    "As can be observed, the **annualized return rate** for someone who **bought and held without trading** is **3.35%**, a **moderate return** for a passive strategy. Let's now dig deeper into the **SMA crossover strategy** to see if this return can be **outperformed by a more active trading approach**."
   ]
  },
  {
   "cell_type": "markdown",
   "id": "c378c486-a83d-4d86-84c9-8afe3fa65e28",
   "metadata": {},
   "source": [
    "## Simple Moving Average (SMA) Crossover Performance"
   ]
  },
  {
   "cell_type": "markdown",
   "id": "cb803bb7-fe33-4f3d-84f9-9c81fab0858d",
   "metadata": {},
   "source": [
    "The way this strategy works is by calculating a **short-term** and **long-term SMA** of the stock price each day based on the **opening price**. A **buy position** is taken when the short-term SMA crosses **above** the long-term SMA, and a **sell position** is taken when it crosses **below**. For simplicity, let's assume **no brokerage fees** or **bid/ask spread**, and the strategy will always **buy or sell using 100% of the available capital**. Let's also assume **fractional shares are allowed**.\n",
    "\n",
    "Before we **optimize the returns** of this strategy by tuning the **short-term** and **long-term SMA parameters** using **grid search** and **walk-forward cross-validation**, let's first analyze a few statistics to ensure my results **make numerical sense**.\n",
    "\n",
    "Firstly, let's calculate the **expected value of the annual yield** if an investor were to select the **short-term** and **long-term SMA parameters at random** from a **uniform distribution of possible combinations**. We will also **determine the best parameters** for the short-term and long-term SMA durations."
   ]
  },
  {
   "cell_type": "code",
   "execution_count": 27,
   "id": "35fcfa98-1bff-433f-a334-612d9c129f43",
   "metadata": {},
   "outputs": [
    {
     "name": "stdout",
     "output_type": "stream",
     "text": [
      "Expected Cumulative Yield: 13.14%\n",
      "Expected Annualized Yield: 2.50%\n",
      "Maximum Cumulative Yield: 36.56%\n",
      "Maximum Annualized Yield: 6.43%\n",
      "Best Performing Short-Term Parameter: 30 Days\n",
      "Best Performing Long-Term Parameter: 80 Days\n"
     ]
    }
   ],
   "source": [
    "short_term_values = range(10, 51, 5)\n",
    "long_term_values = range(60, 141, 10)\n",
    "\n",
    "annual_yields = []\n",
    "maximum_yield = -float(\"inf\")\n",
    "maximum_params = (None, None)\n",
    "\n",
    "for short_term_param in short_term_values:\n",
    "    for long_term_param in long_term_values:\n",
    "        current_cash = STARTING_CASH\n",
    "        current_shares = 0\n",
    "\n",
    "        # initial dataframe adjusted for the start and end dates for easier indexing\n",
    "        aramco_stock_date_adjusted = aramco_stock[\n",
    "            (aramco_stock[\"Date\"] >= START_DATE) & (aramco_stock[\"Date\"] <= END_DATE)\n",
    "        ]\n",
    "\n",
    "        # short-term and long-term series of the simple moving averages\n",
    "        short_term_sma = aramco_stock[\"Open\"].rolling(short_term_param).mean()[\n",
    "            (aramco_stock[\"Date\"] >= START_DATE) & (aramco_stock[\"Date\"] <= END_DATE)\n",
    "        ]\n",
    "        long_term_sma = aramco_stock[\"Open\"].rolling(long_term_param).mean()[\n",
    "            (aramco_stock[\"Date\"] >= START_DATE) & (aramco_stock[\"Date\"] <= END_DATE)\n",
    "        ]\n",
    "\n",
    "        # determine if the initial position should be buy or sell\n",
    "        if short_term_sma.iloc[0] > long_term_sma.iloc[0]:\n",
    "            current_shares = current_cash / aramco_stock_date_adjusted[\"Open\"].iloc[0]\n",
    "            current_cash = 0\n",
    "\n",
    "        # check for a crossover and buy or sell accordingly\n",
    "        for i in range(1, len(short_term_sma)):\n",
    "            if short_term_sma.iloc[i] > long_term_sma.iloc[i] and short_term_sma.iloc[i - 1] < long_term_sma.iloc[i - 1]:\n",
    "                current_shares = current_cash / aramco_stock_date_adjusted[\"Open\"].iloc[i]\n",
    "                current_cash = 0\n",
    "            elif short_term_sma.iloc[i] < long_term_sma.iloc[i] and short_term_sma.iloc[i - 1] > long_term_sma.iloc[i - 1]:\n",
    "                current_cash = current_shares * aramco_stock_date_adjusted[\"Open\"].iloc[i]\n",
    "                current_shares = 0\n",
    "\n",
    "        final_yield = max(current_cash, current_shares * aramco_stock_date_adjusted[\"Open\"].iloc[-1]) / 100\n",
    "        \n",
    "        if final_yield > maximum_yield:\n",
    "            maximum_yield = final_yield\n",
    "            maximum_params = (short_term_param, long_term_param)\n",
    "        \n",
    "        annual_yields.append(final_yield)\n",
    "\n",
    "cumulative_yield = np.mean(annual_yields)\n",
    "annualized_yield = cumulative_yield ** (1/5)\n",
    "\n",
    "print(f\"Expected Cumulative Yield: {(cumulative_yield - 1) * 100:.2f}%\")\n",
    "print(f\"Expected Annualized Yield: {(annualized_yield - 1) * 100:.2f}%\")\n",
    "print(f\"Maximum Cumulative Yield: {(maximum_yield - 1) * 100:.2f}%\")\n",
    "print(f\"Maximum Annualized Yield: {(maximum_yield ** (1/5) - 1) * 100:.2f}%\")\n",
    "print(f\"Best Performing Short-Term Parameter: {maximum_params[0]} Days\")\n",
    "print(f\"Best Performing Long-Term Parameter: {maximum_params[1]} Days\")"
   ]
  },
  {
   "cell_type": "markdown",
   "id": "d5fb2d77-223d-4436-87c9-788c0559392f",
   "metadata": {},
   "source": [
    "As can be observed, the **expected annual yield** for a trader using the **SMA-crossover strategy** (excluding dividends) over the last five years is **2.50%**. The **best performance** occurs with **30-day** and **80-day** windows for the short-term and long-term SMAs, respectively, at **an annual yield of 6.43%**."
   ]
  },
  {
   "cell_type": "code",
   "execution_count": 48,
   "id": "9c457aea-8214-4362-a350-4efea7f9edba",
   "metadata": {},
   "outputs": [
    {
     "data": {
      "image/png": "[encoded data removed]",
      "text/plain": [
       "<Figure size 640x480 with 1 Axes>"
      ]
     },
     "metadata": {},
     "output_type": "display_data"
    }
   ],
   "source": [
    "fig, ax = plt.subplots()\n",
    "\n",
    "ax.plot(aramco_stock[\"Date\"], aramco_stock[\"Open\"], label=\"Open Price (SAR)\")\n",
    "ax.plot(aramco_stock[\"Date\"], aramco_stock[\"Open\"].rolling(30).mean(), label=\"30-Day SMA\")\n",
    "ax.plot(aramco_stock[\"Date\"], aramco_stock[\"Open\"].rolling(80).mean(), label=\"80-Day SMA\")\n",
    "ax.set_xlabel(\"Date\")\n",
    "ax.set_ylabel(\"Price\")\n",
    "ax.set_title(\"Saudi Aramco Performance\")\n",
    "ax.legend();"
   ]
  },
  {
   "cell_type": "markdown",
   "id": "670f511d-8cfb-453d-9476-4f9028375c00",
   "metadata": {},
   "source": [
    "### Introducing Walk-Forward Cross-Validation\n",
    "\n",
    "Here’s an important point to consider: **If a trader uses the SMA crossover strategy with parameters (30, 80), can they realistically expect an annualized yield of around 6.43 %?** The simple answer is **no**.  \n",
    "\n",
    "The reason for this is that we effectively treated the **entire dataset as a single training set** and performed a **grid search on that same data**. This approach **significantly increases the risk of overfitting**, meaning the parameters may simply fit historical noise rather than represent a reliable future edge.\n",
    "\n",
    "To address this issue, we can use a machine learning technique called **walk‑forward cross‑validation (WFCV)**.  \n",
    "\n",
    "**Key Ideas of WFCV:**  \n",
    "  - We will divide the dataset into **multiple training and testing folds** while keeping the **chronological order intact**.  \n",
    "  - Randomly shuffling would destroy the temporal structure and prevent us from measuring how time affects performance.  \n",
    "  - For each fold, we will train on the past segment, then **validate on the following unseen segment**.  \n",
    "\n",
    "\n",
    "For even more realism, **we will select the best‑performing SMA pair in each training fold** and then apply it on the subsequent test fold, allowing the strategy to **adapt parameters over time** as market conditions change. This process tests whether an SMA pair works **consistently across different market regimes** rather than just in one historical window. Notice how we **test on just five different SMA parameter pairs** to prevent the validation process from **being sensitive to noise** as it would be if we were fitting the training data to hundreds of combinations of SMA parameters.\n"
   ]
  },
  {
   "cell_type": "code",
   "execution_count": 134,
   "id": "eb279179-85b8-41f6-adf3-8844d31444ea",
   "metadata": {},
   "outputs": [
    {
     "name": "stdout",
     "output_type": "stream",
     "text": [
      "The best performing SMA parameter pair during Fold #0 was (9, 21) at a cumulative (and annualized) yield of 8.70%.\n",
      "1.0476156201207736\n",
      "On the test set, this pair yielded a cumulative yield of 4.76% over a 6-month period.\n",
      "\n",
      "The best performing SMA parameter pair during Fold #1 was (9, 21) at a cumulative (and annualized) yield of 3.29%.\n",
      "1.2869509215330088\n",
      "On the test set, this pair yielded a cumulative yield of 28.70% over a 6-month period.\n",
      "\n",
      "The best performing SMA parameter pair during Fold #2 was (9, 21) at a cumulative (and annualized) yield of 36.93%.\n",
      "0.9731467789302641\n",
      "On the test set, this pair yielded a cumulative yield of -2.69% over a 6-month period.\n",
      "\n",
      "The best performing SMA parameter pair during Fold #3 was (9, 21) at a cumulative (and annualized) yield of 25.24%.\n",
      "1.0350224876360299\n",
      "On the test set, this pair yielded a cumulative yield of 3.50% over a 6-month period.\n",
      "\n",
      "The best performing SMA parameter pair during Fold #4 was (9, 21) at a cumulative (and annualized) yield of 0.72%.\n",
      "1.0043137362558117\n",
      "On the test set, this pair yielded a cumulative yield of 0.43% over a 6-month period.\n",
      "\n",
      "The best performing SMA parameter pair during Fold #5 was (20, 100) at a cumulative (and annualized) yield of 12.86%.\n",
      "1.0\n",
      "On the test set, this pair yielded a cumulative yield of 0.00% over a 6-month period.\n",
      "\n",
      "The best performing SMA parameter pair during Fold #6 was (20, 100) at a cumulative (and annualized) yield of 4.19%.\n",
      "0.9982174959564887\n",
      "On the test set, this pair yielded a cumulative yield of -0.18% over a 6-month period.\n",
      "\n",
      "The best performing SMA parameter pair during Fold #7 was (21, 55) at a cumulative (and annualized) yield of 0.00%.\n",
      "0.9982174959564887\n",
      "On the test set, this pair yielded a cumulative yield of -0.18% over a 6-month period.\n",
      "\n"
     ]
    }
   ],
   "source": [
    "folds = [\n",
    "    {\"train_start\": \"2020-07-01\", \"train_end\": \"2021-07-01\", \"test_end\": \"2022-01-01\"},\n",
    "    {\"train_start\": \"2021-01-01\", \"train_end\": \"2022-01-01\", \"test_end\": \"2022-07-01\"},\n",
    "    {\"train_start\": \"2021-07-01\", \"train_end\": \"2022-07-01\", \"test_end\": \"2023-01-01\"},\n",
    "    {\"train_start\": \"2022-01-01\", \"train_end\": \"2023-01-01\", \"test_end\": \"2023-07-01\"},\n",
    "    {\"train_start\": \"2022-07-01\", \"train_end\": \"2023-07-01\", \"test_end\": \"2024-01-01\"},\n",
    "    {\"train_start\": \"2023-01-01\", \"train_end\": \"2024-01-01\", \"test_end\": \"2024-07-01\"},\n",
    "    {\"train_start\": \"2023-07-01\", \"train_end\": \"2024-07-01\", \"test_end\": \"2025-01-01\"},\n",
    "    {\"train_start\": \"2024-01-01\", \"train_end\": \"2025-01-01\", \"test_end\": \"2025-07-01\"},\n",
    "]\n",
    "\n",
    "final_yields = []\n",
    "\n",
    "for fold_index, fold in enumerate(folds):\n",
    "    \n",
    "    train = aramco_stock[\n",
    "        (aramco_stock[\"Date\"] >= fold[\"train_start\"]) &\n",
    "        (aramco_stock[\"Date\"] < fold[\"train_end\"])\n",
    "    ]\n",
    "    \n",
    "    test = aramco_stock[\n",
    "        (aramco_stock[\"Date\"] >= fold[\"train_end\"]) &\n",
    "        (aramco_stock[\"Date\"] < fold[\"test_end\"])\n",
    "    ]\n",
    "\n",
    "    sma_pair_yields = {}\n",
    "\n",
    "    for short_term, long_term in ((10, 50), (20, 100), (50, 200), (21, 55), (9, 21)):\n",
    "\n",
    "        short_term_sma = aramco_stock[\"Open\"].rolling(short_term).mean()[\n",
    "            (aramco_stock[\"Date\"] >= fold[\"train_start\"]) &\n",
    "            (aramco_stock[\"Date\"] < fold[\"train_end\"])\n",
    "        ]\n",
    "        \n",
    "        long_term_sma = aramco_stock[\"Open\"].rolling(long_term).mean()[\n",
    "            (aramco_stock[\"Date\"] >= fold[\"train_start\"]) &\n",
    "            (aramco_stock[\"Date\"] < fold[\"train_end\"])\n",
    "        ]\n",
    "\n",
    "        current_cash = STARTING_CASH\n",
    "        current_shares = 0\n",
    "\n",
    "        if short_term_sma.iloc[0] > long_term_sma.iloc[0]:\n",
    "            current_shares = current_cash / train.iloc[0][\"Open\"]\n",
    "            current_cash = 0\n",
    "\n",
    "        for i in range(1, len(train)):\n",
    "            if short_term_sma.iloc[i] > long_term_sma.iloc[i] and short_term_sma.iloc[i - 1] < long_term_sma.iloc[i - 1]:\n",
    "                current_shares = current_cash / train.iloc[i][\"Open\"]\n",
    "                current_cash = 0\n",
    "            if short_term_sma.iloc[i] < long_term_sma.iloc[i] and short_term_sma.iloc[i - 1] > long_term_sma.iloc[i - 1]:\n",
    "                current_cash = current_shares * train.iloc[i][\"Open\"]\n",
    "                current_shares = 0\n",
    "\n",
    "        sma_pair_yields[current_cash + current_shares * train.iloc[-1][\"Open\"]] = (short_term, long_term)\n",
    "\n",
    "    short_term, long_term = sma_pair_yields[np.max(list(sma_pair_yields.keys()))]\n",
    "    \n",
    "    print(f\"The best performing SMA parameter pair during Fold #{fold_index} was ({short_term}, {long_term}) at a cumulative (and annualized) yield of {np.max(list(sma_pair_yields.keys())) - 100:.2f}%.\")\n",
    "\n",
    "    short_term_sma = aramco_stock[\"Open\"].rolling(short_term).mean()[\n",
    "        (aramco_stock[\"Date\"] >= fold[\"train_end\"]) &\n",
    "        (aramco_stock[\"Date\"] < fold[\"test_end\"])\n",
    "    ]\n",
    "    \n",
    "    long_term_sma = aramco_stock[\"Open\"].rolling(long_term).mean()[\n",
    "        (aramco_stock[\"Date\"] >= fold[\"train_end\"]) &\n",
    "        (aramco_stock[\"Date\"] < fold[\"test_end\"])\n",
    "    ]\n",
    "\n",
    "    current_cash = 100\n",
    "    current_shares = 0\n",
    "\n",
    "    if short_term_sma.iloc[0] > long_term_sma.iloc[0]:\n",
    "        current_shares = current_cash / test.iloc[0][\"Open\"]\n",
    "        current_cash = 0\n",
    "\n",
    "    for i in range(1, len(test)):\n",
    "        if short_term_sma.iloc[i] > long_term_sma.iloc[i] and short_term_sma.iloc[i - 1] < long_term_sma.iloc[i - 1]:\n",
    "            current_shares = current_cash / test.iloc[i][\"Open\"]\n",
    "            current_cash = 0\n",
    "        if short_term_sma.iloc[i] < long_term_sma.iloc[i] and short_term_sma.iloc[i - 1] > long_term_sma.iloc[i - 1]:\n",
    "            current_cash = current_shares * test.iloc[i][\"Open\"]\n",
    "            current_shares = 0\n",
    "\n",
    "    final_yield = max(current_cash, current_shares * test.iloc[-1][\"Open\"]) / 100\n",
    "    print((current_cash + current_shares * test.iloc[-1][\"Open\"]) / 100)\n",
    "    \n",
    "    print(f\"On the test set, this pair yielded a cumulative yield of {(final_yield - 1) * 100:.2f}% over a 6-month period.\\n\")\n",
    "\n",
    "    final_yields.append(final_yield)"
   ]
  },
  {
   "cell_type": "code",
   "execution_count": 128,
   "id": "bc8f03da-bc78-4c46-a144-6bc2689e2406",
   "metadata": {},
   "outputs": [
    {
     "name": "stdout",
     "output_type": "stream",
     "text": [
      "Final Cumulative Yield: 35.90%.\n",
      "Final Annualized Yield: 7.97%.\n"
     ]
    }
   ],
   "source": [
    "print(f\"Final Cumulative Yield: {(np.prod(final_yields) - 1) * 100:.2f}%.\")\n",
    "print(f\"Final Annualized Yield: {(np.prod(final_yields) ** (1/4) - 1) * 100:.2f}%.\")"
   ]
  },
  {
   "cell_type": "markdown",
   "id": "98e7d4a0-428e-4e92-ab4b-10d7eff2b058",
   "metadata": {},
   "source": [
    "### Final In-Depth Analysis\n",
    "\n",
    "Not only have we managed to **extract a greater annual compounding rate** by tuning the hyperparameters according to last year's performance, but we are now more **confident in the accuracy of our prediction** as we have tested it thoroughly on several different folds.\n",
    "\n",
    "There is one final point to address. Notice how we've **accumulated most of our expected gains during the second fold (28.69%)**, while most of the other folds yielded an accumulation of a **slightly positive yield at best**. \n",
    "\n",
    "This is **worrying** because 1.2869 is a few standard deviations away from the **mean yield**, and since it only occurred in **1 out of 8 folds**, we cannot safely expect similar gains.\n",
    "\n",
    "To what do we attribute these gains and how can we ensure that **giving up a large portion of dividends** and relying on the **SMA crossover strategy** is the best decision for this market?"
   ]
  },
  {
   "cell_type": "markdown",
   "id": "a1bff767-666f-4292-9d84-2ebec2962579",
   "metadata": {},
   "source": [
    "## The Final Takeaway – Trend Persistence"
   ]
  },
  {
   "cell_type": "markdown",
   "id": "ee49932d-e2c7-4972-9a57-ca456c1ad05b",
   "metadata": {},
   "source": [
    "**Trend persistence** refers to how long a stock’s price continues to rise after an upward movement or continues to decline after a downward movement. Longer durations indicate greater trend persistence, and vice versa.  \n",
    "\n",
    "It is one of the most important indicators of how well a stock will perform when applying the **SMA crossover strategy**. After a stock’s price begins to rise, it typically takes a few days (or even a few weeks) for the short-term SMA to overtake the long-term SMA.  \n",
    "\n",
    "If, by the time the crossover occurs, the stock’s price has already started to fall (i.e., **low trend persistence**), this will generate a **false signal** for the SMA algorithm. In such a case, the trader ends up buying the stock just as it begins to decline, mistakenly assuming the trend is still upward.  \n",
    "\n",
    "In the case of **Aramco**, the second fold represents a period where the stock exhibited **strong positive trend persistence**, which explains the large gains accumulated during that time. As shown in the graph from the previous subsection, this corresponds to early 2022, when **oil prices were at their highest levels in the past decade**.  \n",
    "\n",
    "All in all, it is crucial to analyze **historical data** and observe how the stock has behaved in different market conditions. The key insight is that the **SMA crossover strategy performs best in trending markets** (markets with **high trend persistence**), where stock prices rise for a moderate-to-long duration and fall for a similar duration."
   ]
  }
 ],
 "metadata": {
  "kernelspec": {
   "display_name": "Python [conda env:base] *",
   "language": "python",
   "name": "conda-base-py"
  },
  "language_info": {
   "codemirror_mode": {
    "name": "ipython",
    "version": 3
   },
   "file_extension": ".py",
   "mimetype": "text/x-python",
   "name": "python",
   "nbconvert_exporter": "python",
   "pygments_lexer": "ipython3",
   "version": "3.12.7"
  }
 },
 "nbformat": 4,
 "nbformat_minor": 5
}
